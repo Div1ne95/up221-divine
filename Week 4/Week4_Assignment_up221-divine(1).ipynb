{
 "cells": [
  {
   "cell_type": "code",
   "execution_count": null,
   "id": "039cec03-931e-4b49-a376-fa3ef27f92c2",
   "metadata": {},
   "outputs": [],
   "source": [
    "# Census race and SVI data \n",
    "*Title*:Updates to Race Profile of LA County Residents\n",
    "*Author*:Divine Mutoni \n",
    "*Description*: This notebook focuses on the race variables in the ACS 2022 5-year estimates data, the Social Vulnerability Index data, and data on neighboorhood boundaries in LA city. "
   ]
  },
  {
   "cell_type": "code",
   "execution_count": null,
   "id": "bfe2dce8-a0fc-421a-976c-a330b0aaa67e",
   "metadata": {},
   "outputs": [],
   "source": [
    "## Load, and clean race census tract data and SVI\n",
    "import pandas as pd\n",
    "import geopandas as gpd"
   ]
  },
  {
   "cell_type": "markdown",
   "id": "debfca2f-4894-486e-8154-1ab5e580044b",
   "metadata": {},
   "source": [
    "cens_race = pd.read_csv('Data/ACS 2022_Race_5YEst.csv', #import censu tract\n",
    "                     dtype={'FIPS':str,}\n",
    "                     )\n",
    "cens_race.columns"
   ]
  },
  {
   "cell_type": "code",
   "execution_count": null,
   "id": "60e4b3d0-1aba-4d62-a8b2-1a21ba4af2c3",
   "metadata": {},
   "outputs": [],
   "source": [
    "cens_geo = gpd.read_file('Data/Census_Tracts_2020_DM.geojson')\n",
    "cens_geo = cens_geo[['CT20','geometry']]\n",
    "cens_geo['FIPS'] = '06'+ '037' + cens_geo['CT20']\n",
    "cens_race_geo= cens_geo.merge(cens_race,on=\"FIPS\")"
   ]
  },
  {
   "cell_type": "code",
   "execution_count": null,
   "id": "7339591a-34be-4764-91c2-d999dbfd2fa6",
   "metadata": {},
   "outputs": [],
   "source": [
    "svi = pd.read_csv('Data/SVI California 2020.csv',\n",
    "                  dtype={'FIPS':str,}\n",
    "                 )"
   ]
  },
  {
   "cell_type": "code",
   "execution_count": null,
   "id": "4c83ae2a-3bec-47a8-9076-f46e5765aed3",
   "metadata": {},
   "outputs": [],
   "source": [
    "svi_race = cens_race_geo.merge(svi,on='FIPS')\n",
    "svi_race.columns"
   ]
  },
  {
   "cell_type": "code",
   "execution_count": null,
   "id": "691a4eb6-ae3b-40b8-986a-4f6f31f81def",
   "metadata": {},
   "outputs": [],
   "source": [
    "## Analysis of SVI score across racial demographics in LA county\n",
    "### Prompt 1: What is the distribution of SVI scores (mean) across different racial/ethnic majority census tracts?"
   ]
  },
  {
   "cell_type": "code",
   "execution_count": null,
   "id": "67876f27-08d7-481a-bfbb-a488384f9797",
   "metadata": {},
   "outputs": [],
   "source": [
    "svi_race['PCT_Black'] = svi_race['Total Population: Not Hispanic or Latino: Black or African American Alone']/svi_race['Total Population:']*100\n",
    "svi_race['PCT_White'] = svi_race['Total Population: Not Hispanic or Latino: White Alone']/svi_race['Total Population:']*100\n",
    "svi_race['PCT_Hispanic'] = svi_race['Total Population: Hispanic or Latino']/svi_race['Total Population:']*100\n",
    "svi_race['PCT_Asian'] = svi_race['Total Population: Not Hispanic or Latino: Asian Alone']/svi_race['Total Population:']*100"
   ]
  },
  {
   "cell_type": "code",
   "execution_count": null,
   "id": "faa1dc15-1876-4b71-8915-d216b37b9238",
   "metadata": {},
   "outputs": [],
   "source": [
    "# Create data frames of four ethnic groups and show the percentages (SPL_THEME variable which captures the social vulnerability scores across 4 metrics\n",
    "![alt text](SVI_Score.png \"SVI_Score\")"
   ]
  },
  {
   "cell_type": "code",
   "execution_count": null,
   "id": "b184beb7-0eae-40f5-a086-c6e31bb6bcb7",
   "metadata": {},
   "outputs": [],
   "source": [
    "df_Hmaj = svi_race[svi_race['PCT_Hispanic']>50]\n",
    "df_NHWhite_maj = svi_race[svi_race['PCT_White']>50]\n",
    "df_NHBlack_maj = svi_race[svi_race['PCT_Black']>50]\n",
    "df_NHAsian_maj = svi_race[svi_race['PCT_Asian']>50]"
   ]
  },
  {
   "cell_type": "code",
   "execution_count": null,
   "id": "9299f1a3-a13a-4533-9f29-21b172d96678",
   "metadata": {},
   "outputs": [],
   "source": [
    "# Import analysis and plotting modules \n",
    "from pandas.plotting import bootstrap_plot\n",
    "import numpy as np\n",
    "import folium\n",
    "import json\n",
    "import matplotlib.pyplot as plt\n",
    "import mapclassify\n",
    "from mapclassify import NaturalBreaks"
   ]
  },
  {
   "cell_type": "code",
   "execution_count": null,
   "id": "599d97b6-54c5-410e-aebc-133b83de211e",
   "metadata": {},
   "outputs": [],
   "source": [
    "# 2.1. Plot Hispanic_majority\n",
    "data = df_Hmaj['SPL_THEMES'].dropna().values\n",
    "\n",
    "# Function to generate bootstrap samples\n",
    "def generate_bootstrap_samples(data, num_samples=1000):\n",
    "    sample_means = np.zeros(num_samples)\n",
    "    for i in range(num_samples):\n",
    "        bootstrap_sample = np.random.choice(data, size=len(data), replace=True)\n",
    "        sample_means[i] = np.mean(bootstrap_sample)\n",
    "    return sample_means\n",
    "\n",
    "# Generate bootstrap samples\n",
    "bootstrap_samples = generate_bootstrap_samples(data)\n",
    "\n",
    "# Create the bootstrap plot\n",
    "plt.figure(figsize=(10, 6))\n",
    "plt.hist(bootstrap_samples, bins=30, edgecolor='black', alpha=0.7,color='skyblue')\n",
    "plt.title('Bootstrap Plot in Los Angeles')\n",
    "plt.xlabel('Mean Value')\n",
    "plt.ylabel('Frequency')\n",
    "plt.grid(True)\n",
    "plt.show()\n",
    "plt.savefig('SVI Scores_Hispmaj.png')"
   ]
  },
  {
   "cell_type": "code",
   "execution_count": null,
   "id": "fafd1bb9-b03c-4211-aaf1-b941e6cfff82",
   "metadata": {},
   "outputs": [],
   "source": [
    "# 2.2. Plot White_majority\n",
    "data2 = df_NHWhite_maj['SPL_THEMES'].dropna().values\n",
    "\n",
    "# Function to generate bootstrap samples\n",
    "def generate_bootstrap_samples(data2, num_samples=1000):\n",
    "    sample_means = np.zeros(num_samples)\n",
    "    for i in range(num_samples):\n",
    "        bootstrap_sample = np.random.choice(data2, size=len(data2), replace=True)\n",
    "        sample_means[i] = np.mean(bootstrap_sample)\n",
    "    return sample_means\n",
    "\n",
    "# Generate bootstrap samples\n",
    "bootstrap_samples = generate_bootstrap_samples(data2)\n",
    "\n",
    "# Create the bootstrap plot\n",
    "plt.figure(figsize=(10, 6))\n",
    "plt.hist(bootstrap_samples, bins=30, edgecolor='black', alpha=0.7,color='blue')\n",
    "plt.title('Bootstrap Plot in Los Angeles')\n",
    "plt.xlabel('Mean Value')\n",
    "plt.ylabel('Frequency')\n",
    "plt.grid(True)\n",
    "plt.show()\n",
    "plt.savefig('SVI Scores_Whitemaj.png')"
   ]
  },
  {
   "cell_type": "code",
   "execution_count": null,
   "id": "41f7daae-2a17-4aa7-98ff-0a09ddd88832",
   "metadata": {
    "scrolled": true
   },
   "outputs": [],
   "source": [
    "# 2.3. Plot Black majority Census Tracts\n",
    "data3 = df_NHBlack_maj['SPL_THEMES'].dropna().values\n",
    "\n",
    "# Function to generate bootstrap samples\n",
    "def generate_bootstrap_samples(data3, num_samples=1000):\n",
    "    sample_means = np.zeros(num_samples)\n",
    "    for i in range(num_samples):\n",
    "        bootstrap_sample = np.random.choice(data3, size=len(data3), replace=True)\n",
    "        sample_means[i] = np.mean(bootstrap_sample)\n",
    "    return sample_means\n",
    "\n",
    "# Generate bootstrap samples\n",
    "bootstrap_samples = generate_bootstrap_samples(data3)\n",
    "\n",
    "# Create the bootstrap plot\n",
    "plt.figure(figsize=(10, 6))\n",
    "plt.hist(bootstrap_samples, bins=30, edgecolor='black', alpha=0.7,color='darkblue')\n",
    "plt.title('SVI Scores_Asian maj')\n",
    "plt.xlabel('Mean Value')\n",
    "plt.ylabel('Frequency')\n",
    "plt.grid(True)\n",
    "plt.show()\n",
    "plt.savefig('SVI Scores_Blackmaj.png')"
   ]
  },
  {
   "cell_type": "code",
   "execution_count": null,
   "id": "accf9fd0-2ef0-45e0-ac0e-d50200874036",
   "metadata": {},
   "outputs": [],
   "source": [
    "# 2.4. Plot Asian_majority\n",
    "data4 = df_NHAsian_maj['SPL_THEMES'].dropna().values\n",
    "\n",
    "# Function to generate bootstrap samples\n",
    "def generate_bootstrap_samples(data4, num_samples=1000):\n",
    "    sample_means = np.zeros(num_samples)\n",
    "    for i in range(num_samples):\n",
    "        bootstrap_sample = np.random.choice(data4, size=len(data4), replace=True)\n",
    "        sample_means[i] = np.mean(bootstrap_sample)\n",
    "    return sample_means\n",
    "\n",
    "# Generate bootstrap samples\n",
    "bootstrap_samples = generate_bootstrap_samples(data4)\n",
    "\n",
    "# Create the bootstrap plot\n",
    "plt.figure(figsize=(10, 6))\n",
    "plt.hist(bootstrap_samples, bins=30, edgecolor='black', alpha=0.7,color='grey')\n",
    "plt.title('SVI Scores_Asian maj')\n",
    "plt.xlabel('Mean Value')\n",
    "plt.ylabel('Frequency')\n",
    "plt.grid(True)\n",
    "plt.show()\n",
    "plt.savefig('SVI Scores_Asianmaj.png')"
   ]
  },
  {
   "cell_type": "code",
   "execution_count": null,
   "id": "9d5db2a0-111d-4fc3-90c0-d64d6e78993d",
   "metadata": {},
   "outputs": [],
   "source": [
    "### Prompt 2: Create an interactive map that plots the SVI scores (SPL_THEME) across maj. White or maj. minority column (Y/N)"
   ]
  },
  {
   "cell_type": "code",
   "execution_count": null,
   "id": "f92673c8-d3b9-4f1b-bd1a-f5fff3f673f8",
   "metadata": {},
   "outputs": [],
   "source": [
    "# 3.1. First create a binary column 'Majority' based on PCT_White\n",
    "svi_race['Category'] = np.where(svi_race['PCT_White'] >= 50, 1, 0)\n",
    "svi_race['Category'].head"
   ]
  },
  {
   "cell_type": "code",
   "execution_count": null,
   "id": "edb3508a-27fc-4adf-8cf4-e5e33718c584",
   "metadata": {},
   "outputs": [],
   "source": [
    "# 3.2. Plot interactive choloropeth map\n",
    "data = svi_race.loc[svi_race['RPL_THEMES'] >= 0]\n",
    "\n",
    "m = folium.Map(location=[34.2,-118.2], #create empty CartoDB base map\n",
    "               tiles='CartoDB positron', \n",
    "               attribution='CartoDB')\n",
    "#create choropleth\n",
    "folium.Choropleth(\n",
    "                  geo_data=data,\n",
    "                  data=data,          \n",
    "                  key_on='feature.properties.FIPS',\n",
    "                  columns=['FIPS','RPL_THEMES'], \n",
    "                  fill_color='RdPu',\n",
    "                  line_weight=0.1, \n",
    "                  fill_opacity=0.9,\n",
    "                  line_opacity=0.9, \n",
    "                  legend_name='SVI Percentile ranking - LA Census Tracts').add_to(m)\n",
    "m"
   ]
  },
  {
   "cell_type": "code",
   "execution_count": null,
   "id": "bd8308bd-eb7a-4275-829f-96debd373a0d",
   "metadata": {},
   "outputs": [],
   "source": [
    "# 3.3. add the white and non-white binary to the feature group\n",
    "gdf = gpd.GeoDataFrame(data)\n",
    "for index, column in data.gdf.iteritems():\n",
    "    color = 'yellow' if row['Category'] == 1 else 'grey'\n",
    "    folium.Marker([row['Latitude'], row['Longitude']], popup=row['LocationName'], icon=folium.Icon(color=color)).add_to(m)\n",
    "\n",
    "folium.LayerControl(position='topright', collapsed=True, autoZIndex=True).add_to(m)\n",
    "m"
   ]
  },
  {
   "cell_type": "markdown",
   "id": "622906e1-746d-42d6-9403-ae92899e29a6",
   "metadata": {},
   "source": [
    "m.save('SVI_Percentiles.png')"
   ]
  }
 ],
 "metadata": {
  "kernelspec": {
   "display_name": "Python 3 (ipykernel)",
   "language": "python",
   "name": "python3"
  },
  "language_info": {
   "codemirror_mode": {
    "name": "ipython",
    "version": 3
   },
   "file_extension": ".py",
   "mimetype": "text/x-python",
   "name": "python",
   "nbconvert_exporter": "python",
   "pygments_lexer": "ipython3",
   "version": "3.11.7"
  }
 },
 "nbformat": 4,
 "nbformat_minor": 5
}
